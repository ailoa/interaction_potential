{
 "cells": [
  {
   "cell_type": "code",
   "execution_count": 73,
   "metadata": {},
   "outputs": [],
   "source": [
    "import sys; sys.path.append('../src/')\n",
    "import matplotlib.pyplot as plt\n",
    "import numpy as np\n",
    "from radially_sym_pot import *\n",
    "import scipy.optimize as SciOpt\n"
   ]
  },
  {
   "cell_type": "code",
   "execution_count": 79,
   "metadata": {},
   "outputs": [
    {
     "name": "stderr",
     "output_type": "stream",
     "text": [
      "/home/ailo/code/interaction_potential/scripts/../src/hardsphere.py:14: RuntimeWarning: overflow encountered in exp\n",
      "  y = np.exp(A + B*(r/dhs) + C*(r/dhs)**3)\n",
      "/home/ailo/code/interaction_potential/scripts/../src/radially_sym_pot.py:161: IntegrationWarning: Extremely bad integrand behavior occurs at some points of the\n",
      "  integration interval.\n",
      "  integral_left, error = SciInt.quad(func=integrand_left, a=0, b=d,\n",
      "/home/ailo/code/interaction_potential/scripts/../src/radially_sym_pot.py:163: IntegrationWarning: The occurrence of roundoff error is detected, which prevents \n",
      "  the requested tolerance from being achieved.  The error may be \n",
      "  underestimated.\n",
      "  integral_right, error = SciInt.quad(func=integrand_right, a=d, b=rmin,\n",
      "/home/ailo/code/interaction_potential/scripts/../src/hardsphere.py:19: RuntimeWarning: invalid value encountered in subtract\n",
      "/home/ailo/code/interaction_potential/scripts/../src/hardsphere.py:19: RuntimeWarning: overflow encountered in true_divide\n",
      "/home/ailo/code/interaction_potential/scripts/../src/radially_sym_pot.py:190: IntegrationWarning: The occurrence of roundoff error is detected, which prevents \n",
      "  the requested tolerance from being achieved.  The error may be \n",
      "  underestimated.\n",
      "  integral_right, error = SciInt.quad(func=integrand_right, a=d, b=rmin,\n",
      "/home/ailo/code/interaction_potential/scripts/../src/radially_sym_pot.py:188: IntegrationWarning: Extremely bad integrand behavior occurs at some points of the\n",
      "  integration interval.\n",
      "  integral_left, error = SciInt.quad(func=integrand_left, a=0, b=d,\n"
     ]
    },
    {
     "name": "stdout",
     "output_type": "stream",
     "text": [
      "0.9770679443861346\n",
      "0.9731736421075827\n",
      "1.0\n",
      "1.0\n"
     ]
    },
    {
     "data": {
      "image/png": "[encoded data removed]",
      "text/plain": [
       "<Figure size 432x288 with 1 Axes>"
      ]
     },
     "metadata": {
      "needs_background": "light"
     },
     "output_type": "display_data"
    }
   ],
   "source": [
    "LJ = MieFH(lama=6, lamr=12)\n",
    "LJ = InversePowerPotential()\n",
    "\n",
    "\n",
    "T = 1.321\n",
    "#T = 0.5321\n",
    "rho = 1.30000016\n",
    "dbh = LJ.calc_dhs_bh(T)\n",
    "dwca = LJ.calc_dhs_wca(T, rho)\n",
    "dbfc = LJ.calc_dhs_BFC(T)\n",
    "dlado = LJ.calc_dhs_wca_lado(T, rho)\n",
    "\n",
    "print(dbfc)\n",
    "print(dbh)\n",
    "print(dwca)\n",
    "print(dlado)\n",
    "\n",
    "\n",
    "rhovec = np.linspace(0,1, 10)\n",
    "Tvec = [0.5, 0.7, 0.9, 1.1, 1.3, 1.5]\n",
    "\n",
    "bhvec = [LJ.calc_dhs_bh(T) for T in Tvec]\n",
    "bfcvec = [LJ.calc_dhs_BFC(T) for T in Tvec]\n",
    "wca0vec = [LJ.calc_dhs_wca_lado(T, 0) for T in Tvec]\n",
    "wca05vec = [LJ.calc_dhs_wca_lado(T, 0.5) for T in Tvec]\n",
    "wca1vec = [LJ.calc_dhs_wca_lado(T, 1) for T in Tvec]\n",
    "\n",
    "\n",
    "\n",
    "plt.plot(Tvec, bfcvec, ls='-', label=\"BFC\")\n",
    "plt.plot(Tvec, bhvec, ls='--', label=\"BH\")\n",
    "plt.plot(Tvec, wca0vec, ls='-.', label=\"WCA0.0\")\n",
    "plt.plot(Tvec, wca05vec, ls='-.', label=\"WCA0.5\")\n",
    "plt.plot(Tvec, wca1vec, ls='-.', label=\"WCA1.0\")\n",
    "plt.legend()\n",
    "plt.show()\n"
   ]
  },
  {
   "cell_type": "code",
   "execution_count": 51,
   "metadata": {},
   "outputs": [
    {
     "name": "stdout",
     "output_type": "stream",
     "text": [
      "0.9719042379980447\n",
      "0.9752952319548437\n",
      "1.019362388913273\n",
      "1.0310549434811513\n"
     ]
    }
   ],
   "source": [
    "LJs = LJSpline()\n",
    "T = 0.885\n",
    "T = 0.885\n",
    "rho = 0.333\n",
    "dbfc = LJs.calc_dhs_BFC(T)\n",
    "dbh = LJs.calc_dhs_bh(T)\n",
    "dwca = LJs.calc_dhs_wca(T, rho)\n",
    "dlado = LJs.calc_dhs_wca_lado(T, rho)\n",
    "\n",
    "\n",
    "print(dbfc)\n",
    "print(dbh)\n",
    "print(dwca)\n",
    "print(dlado)\n"
   ]
  }
 ],
 "metadata": {
  "kernelspec": {
   "display_name": "Python 3",
   "language": "python",
   "name": "python3"
  },
  "language_info": {
   "codemirror_mode": {
    "name": "ipython",
    "version": 3
   },
   "file_extension": ".py",
   "mimetype": "text/x-python",
   "name": "python",
   "nbconvert_exporter": "python",
   "pygments_lexer": "ipython3",
   "version": "3.10.6"
  },
  "orig_nbformat": 4
 },
 "nbformat": 4,
 "nbformat_minor": 2
}
